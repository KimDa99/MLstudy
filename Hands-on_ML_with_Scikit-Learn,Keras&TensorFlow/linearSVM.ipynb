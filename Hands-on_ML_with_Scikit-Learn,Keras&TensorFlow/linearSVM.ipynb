{
 "cells": [
  {
   "cell_type": "code",
   "execution_count": 1,
   "metadata": {},
   "outputs": [
    {
     "ename": "TypeError",
     "evalue": "'function' object is not subscriptable",
     "output_type": "error",
     "traceback": [
      "\u001b[1;31m---------------------------------------------------------------------------\u001b[0m",
      "\u001b[1;31mTypeError\u001b[0m                                 Traceback (most recent call last)",
      "\u001b[1;32mc:\\Users\\KimDa\\Documents\\MLstudy\\Scikit-LearnPrac\\linearSVM.ipynb 셀 1\u001b[0m in \u001b[0;36m<cell line: 8>\u001b[1;34m()\u001b[0m\n\u001b[0;32m      <a href='vscode-notebook-cell:/c%3A/Users/KimDa/Documents/MLstudy/Scikit-LearnPrac/linearSVM.ipynb#W0sZmlsZQ%3D%3D?line=4'>5</a>\u001b[0m \u001b[39mfrom\u001b[39;00m \u001b[39msklearn\u001b[39;00m\u001b[39m.\u001b[39;00m\u001b[39msvm\u001b[39;00m \u001b[39mimport\u001b[39;00m LinearSVC\n\u001b[0;32m      <a href='vscode-notebook-cell:/c%3A/Users/KimDa/Documents/MLstudy/Scikit-LearnPrac/linearSVM.ipynb#W0sZmlsZQ%3D%3D?line=6'>7</a>\u001b[0m iris \u001b[39m=\u001b[39m datasets\u001b[39m.\u001b[39mload_iris\n\u001b[1;32m----> <a href='vscode-notebook-cell:/c%3A/Users/KimDa/Documents/MLstudy/Scikit-LearnPrac/linearSVM.ipynb#W0sZmlsZQ%3D%3D?line=7'>8</a>\u001b[0m X \u001b[39m=\u001b[39m iris[\u001b[39m\"\u001b[39;49m\u001b[39mdata\u001b[39;49m\u001b[39m\"\u001b[39;49m][:, (\u001b[39m2\u001b[39m, \u001b[39m3\u001b[39m)] \u001b[39m# petal length, petal width\u001b[39;00m\n\u001b[0;32m      <a href='vscode-notebook-cell:/c%3A/Users/KimDa/Documents/MLstudy/Scikit-LearnPrac/linearSVM.ipynb#W0sZmlsZQ%3D%3D?line=8'>9</a>\u001b[0m y \u001b[39m=\u001b[39m (iris[\u001b[39m\"\u001b[39m\u001b[39mtarget\u001b[39m\u001b[39m\"\u001b[39m] \u001b[39m==\u001b[39m \u001b[39m2\u001b[39m)\u001b[39m.\u001b[39mastype(np\u001b[39m.\u001b[39mfloat64) \u001b[39m# Iris-Virginica\u001b[39;00m\n\u001b[0;32m     <a href='vscode-notebook-cell:/c%3A/Users/KimDa/Documents/MLstudy/Scikit-LearnPrac/linearSVM.ipynb#W0sZmlsZQ%3D%3D?line=10'>11</a>\u001b[0m svm_clf \u001b[39m=\u001b[39m Pipeline([\n\u001b[0;32m     <a href='vscode-notebook-cell:/c%3A/Users/KimDa/Documents/MLstudy/Scikit-LearnPrac/linearSVM.ipynb#W0sZmlsZQ%3D%3D?line=11'>12</a>\u001b[0m     (\u001b[39m\"\u001b[39m\u001b[39mscaler\u001b[39m\u001b[39m\"\u001b[39m, StandardScaler()),\n\u001b[0;32m     <a href='vscode-notebook-cell:/c%3A/Users/KimDa/Documents/MLstudy/Scikit-LearnPrac/linearSVM.ipynb#W0sZmlsZQ%3D%3D?line=12'>13</a>\u001b[0m     (\u001b[39m\"\u001b[39m\u001b[39mlinear_svc\u001b[39m\u001b[39m\"\u001b[39m, LinearSVC(C\u001b[39m=\u001b[39m\u001b[39m1\u001b[39m, loss\u001b[39m=\u001b[39m\u001b[39m\"\u001b[39m\u001b[39mhinge\u001b[39m\u001b[39m\"\u001b[39m))\n\u001b[0;32m     <a href='vscode-notebook-cell:/c%3A/Users/KimDa/Documents/MLstudy/Scikit-LearnPrac/linearSVM.ipynb#W0sZmlsZQ%3D%3D?line=13'>14</a>\u001b[0m ])\n",
      "\u001b[1;31mTypeError\u001b[0m: 'function' object is not subscriptable"
     ]
    }
   ],
   "source": [
    "import numpy as np\n",
    "from sklearn import datasets\n",
    "from sklearn.pipeline import Pipeline\n",
    "from sklearn.preprocessing import StandardScaler\n",
    "from sklearn.svm import LinearSVC\n",
    "\n",
    "iris = datasets.load_iris\n",
    "X = iris[\"data\"][:, (2, 3)] # petal length, petal width\n",
    "y = (iris[\"target\"] == 2).astype(np.float64) # Iris-Virginica\n",
    "\n",
    "svm_clf = Pipeline([\n",
    "    (\"scaler\", StandardScaler()),\n",
    "    (\"linear_svc\", LinearSVC(C=1, loss=\"hinge\"))\n",
    "])\n",
    "\n",
    "svm_clf.fit(X, y)"
   ]
  }
 ],
 "metadata": {
  "kernelspec": {
   "display_name": "Python 3.9.12 ('base')",
   "language": "python",
   "name": "python3"
  },
  "language_info": {
   "codemirror_mode": {
    "name": "ipython",
    "version": 3
   },
   "file_extension": ".py",
   "mimetype": "text/x-python",
   "name": "python",
   "nbconvert_exporter": "python",
   "pygments_lexer": "ipython3",
   "version": "3.9.12"
  },
  "orig_nbformat": 4,
  "vscode": {
   "interpreter": {
    "hash": "b48f3d56482f9eada19c02a20698201014f8551853b72184fa1d7be5fa49ffa4"
   }
  }
 },
 "nbformat": 4,
 "nbformat_minor": 2
}
